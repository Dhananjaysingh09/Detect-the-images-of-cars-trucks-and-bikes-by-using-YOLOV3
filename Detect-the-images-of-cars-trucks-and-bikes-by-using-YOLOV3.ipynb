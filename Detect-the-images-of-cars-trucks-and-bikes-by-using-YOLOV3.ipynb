{
 "cells": [
  {
   "cell_type": "markdown",
   "id": "695cac54",
   "metadata": {},
   "source": [
    "## Only Detect the images of Cars, Trucks and Bikes and Count the number of detections for each class in an image. "
   ]
  },
  {
   "cell_type": "code",
   "execution_count": null,
   "id": "9d6ab8a3",
   "metadata": {},
   "outputs": [],
   "source": [
    "path of coco.names2 : D:\\software\\Downloads\\DS Interviews (1)\\DS Interviews\\Required Files\n",
    "path of yolov3.cfg : D:\\software\\Downloads\\DS Interviews (1)\\DS Interviews\n",
    "path of yolov3.weight : D:\\software\\Downloads\\DS Interviews (1)\\DS Interviews\\Required Files"
   ]
  },
  {
   "cell_type": "code",
   "execution_count": 1,
   "id": "f73278e0",
   "metadata": {},
   "outputs": [
    {
     "name": "stdout",
     "output_type": "stream",
     "text": [
      "Requirement already satisfied: opencv-python in c:\\users\\dhananjay\\anaconda3\\lib\\site-packages (4.7.0.72)\n",
      "Requirement already satisfied: numpy in c:\\users\\dhananjay\\anaconda3\\lib\\site-packages (1.21.5)\n",
      "Note: you may need to restart the kernel to use updated packages.\n"
     ]
    }
   ],
   "source": [
    "pip install opencv-python numpy"
   ]
  },
  {
   "cell_type": "code",
   "execution_count": 2,
   "id": "580ae4b9",
   "metadata": {},
   "outputs": [
    {
     "name": "stdout",
     "output_type": "stream",
     "text": [
      "Requirement already satisfied: darknet in c:\\users\\dhananjay\\anaconda3\\lib\\site-packages (0.3)\n",
      "Note: you may need to restart the kernel to use updated packages.\n"
     ]
    }
   ],
   "source": [
    "pip install darknet"
   ]
  },
  {
   "cell_type": "code",
   "execution_count": 3,
   "id": "ee7808a2",
   "metadata": {},
   "outputs": [
    {
     "name": "stdout",
     "output_type": "stream",
     "text": [
      "Detected classes  ['person', 'car', 'car', 'bus', 'truck', 'car', 'car', 'car', 'bus', 'bus', 'bus', 'bus', 'bus', 'bus', 'bus', 'bus', 'bus', 'truck', 'truck', 'bus', 'truck', 'car', 'truck', 'car', 'car', 'car', 'truck', 'truck', 'truck', 'car', 'car', 'car', 'car', 'car', 'bus', 'car', 'bus', 'bus', 'car', 'car', 'bus', 'bus', 'car', 'car', 'truck', 'bus', 'bus', 'car', 'car', 'bus', 'car', 'person', 'car', 'car', 'car', 'car', 'car', 'car', 'car', 'car', 'car', 'person', 'car', 'car', 'person', 'car', 'car', 'car', 'car', 'car', 'car', 'car', 'car', 'car', 'car', 'car', 'car', 'car', 'car', 'person', 'person', 'person', 'person']\n",
      "Class counts : {'person': 8, 'car': 47, 'bus': 19, 'truck': 9}\n"
     ]
    }
   ],
   "source": [
    "import cv2 \n",
    "import numpy as np \n",
    "import darknet\n",
    "\n",
    "net = cv2.dnn.readNet('yolov3.cfg','yolov3.weights')\n",
    "\n",
    "if net.empty(): # check if the model is loaded correctly\n",
    "    print('Error: unable to load the yolo model')\n",
    "    exit()\n",
    "\n",
    "# Load the coco class names \n",
    "with open('coco.names2','r') as f:\n",
    "    classes = f.read().strip().split('\\n')\n",
    "    \n",
    "# get output layer\n",
    "layer_names = net.getLayerNames()\n",
    "\n",
    "output_layer_indices = net.getUnconnectedOutLayers()\n",
    "\n",
    "output_layers = [layer_names[ i-1] for i in net.getUnconnectedOutLayers()]\n",
    "\n",
    "\n",
    "\n",
    "def detect_objects(image_path): \n",
    "    image = cv2.imread(image_path)\n",
    "    height,width = image.shape[:2]\n",
    "    \n",
    "    blob = cv2.dnn.blobFromImage(image,scalefactor=1/255.0,size=(416,416),swapRB=True,crop=False)\n",
    "    \n",
    "    net.setInput(blob)\n",
    "    \n",
    "    detections = net.forward(output_layers)\n",
    "    \n",
    "    detected_classes = []\n",
    "    class_counts = {}\n",
    "    \n",
    "    for detection in detections:\n",
    "        for obj in detection:\n",
    "            scores = obj[5:]\n",
    "            class_id = np.argmax(scores)\n",
    "            confidence = scores[class_id]\n",
    "            \n",
    "            if confidence > 0.5 : \n",
    "                class_name = classes[class_id]\n",
    "                detected_classes.append(class_name)\n",
    "                \n",
    "                class_counts[class_name] = class_counts.get(class_name,0) + 1 \n",
    "    return detected_classes,class_counts\n",
    "\n",
    "\n",
    "\n",
    "# Prediction \n",
    "image_path = 'traffic_20200119091542.jpg'\n",
    "detected_classed,class_counts = detect_objects(image_path)\n",
    "\n",
    "print('Detected classes ',detected_classed)\n",
    "print('Class counts :',class_counts)\n"
   ]
  },
  {
   "cell_type": "markdown",
   "id": "6f6174db",
   "metadata": {},
   "source": [
    "## Count the number of detections for each class in an image."
   ]
  },
  {
   "cell_type": "code",
   "execution_count": 4,
   "id": "4daf857b",
   "metadata": {},
   "outputs": [
    {
     "name": "stdout",
     "output_type": "stream",
     "text": [
      "Class counts : {'person': 8, 'car': 47, 'bus': 19, 'truck': 9}\n"
     ]
    }
   ],
   "source": [
    "print('Class counts :',class_counts)"
   ]
  }
 ],
 "metadata": {
  "kernelspec": {
   "display_name": "Python 3 (ipykernel)",
   "language": "python",
   "name": "python3"
  },
  "language_info": {
   "codemirror_mode": {
    "name": "ipython",
    "version": 3
   },
   "file_extension": ".py",
   "mimetype": "text/x-python",
   "name": "python",
   "nbconvert_exporter": "python",
   "pygments_lexer": "ipython3",
   "version": "3.9.13"
  }
 },
 "nbformat": 4,
 "nbformat_minor": 5
}
